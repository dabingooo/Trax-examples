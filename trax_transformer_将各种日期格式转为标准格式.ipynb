{
  "nbformat": 4,
  "nbformat_minor": 0,
  "metadata": {
    "colab": {
      "name": "trax-transformer-将各种日期格式转为标准格式",
      "provenance": [],
      "collapsed_sections": [],
      "include_colab_link": true
    },
    "kernelspec": {
      "display_name": "Python 3",
      "name": "python3"
    },
    "accelerator": "GPU"
  },
  "cells": [
    {
      "cell_type": "markdown",
      "metadata": {
        "id": "view-in-github",
        "colab_type": "text"
      },
      "source": [
        "<a href=\"https://colab.research.google.com/github/dabingooo/Trax-examples/blob/master/trax_transformer_%E5%B0%86%E5%90%84%E7%A7%8D%E6%97%A5%E6%9C%9F%E6%A0%BC%E5%BC%8F%E8%BD%AC%E4%B8%BA%E6%A0%87%E5%87%86%E6%A0%BC%E5%BC%8F.ipynb\" target=\"_parent\"><img src=\"https://colab.research.google.com/assets/colab-badge.svg\" alt=\"Open In Colab\"/></a>"
      ]
    },
    {
      "cell_type": "markdown",
      "metadata": {
        "id": "9IgvbESdY_U_"
      },
      "source": [
        "# 将各种日期格式转为标准格式 by Trax Transformer模型\n",
        "本代码是作为使用google的trax库的例子. 本来是打算做机器翻译(中文->英文), 但因为资源不足,训练时间长,且很可能没有好的结果.所以将问题简化为将各种日期格式->标准日期的训练.\n",
        "\n",
        "**转化示例**:\n",
        "> 各种日期格式&nbsp;&nbsp;&nbsp;->&nbsp;&nbsp;标准日期格式<br/>\n",
        "'10.11.19'&nbsp;&nbsp;&nbsp;&nbsp;&nbsp;&nbsp;&nbsp;&nbsp;&nbsp;&nbsp;->&nbsp;&nbsp;'2019-11-10'<br/>\n",
        "'1970/9/10'&nbsp;&nbsp;&nbsp;&nbsp;&nbsp;&nbsp;->&nbsp;&nbsp;'1970-09-10'<br/>\n",
        "'1990年4月28日星期六'&nbsp;&nbsp;->&nbsp;&nbsp;'1990-04-28'<br/>\n"
      ]
    },
    {
      "cell_type": "code",
      "metadata": {
        "cellView": "both",
        "id": "vlGjGoGMTt-D"
      },
      "source": [
        "import os\n",
        "import numpy as np\n",
        "!pip install -q -U trax\n",
        "import trax\n",
        "from trax import layers as tl\n",
        "!pip install -q faker\n",
        "!pip install -q tqdm\n",
        "!pip install -q babel"
      ],
      "execution_count": 75,
      "outputs": []
    },
    {
      "cell_type": "markdown",
      "metadata": {
        "id": "8caYzOV27tiW"
      },
      "source": [
        "下面函数用于生成数据.此代码源自吴恩达Deep-Learning-Specialization-Coursera课程,此处代码拷贝自[Here](https://github.com/AdalbertoCq/Deep-Learning-Specialization-Coursera/blob/master/Sequence%20Models/week3/Neural%20machine%20translation%20with%20attention/nmt_utils.py)\n",
        ",有较大改动.."
      ]
    },
    {
      "cell_type": "code",
      "metadata": {
        "id": "KBnRYAP9xtmY",
        "outputId": "3376c025-137d-4aa6-d1e7-bc8eb2624bd7",
        "colab": {
          "base_uri": "https://localhost:8080/",
          "height": 90
        }
      },
      "source": [
        "import numpy as np\n",
        "from faker import Faker\n",
        "import random\n",
        "from tqdm import tqdm\n",
        "from babel.dates import format_date\n",
        "\n",
        "fake = Faker()\n",
        "Faker.seed(12345)\n",
        "random.seed(12345)\n",
        "\n",
        "# Define format of the data we would like to generate\n",
        "FORMATS = ['short',\n",
        "           'medium',\n",
        "           'long',\n",
        "           'full',\n",
        "           'full',\n",
        "           'full',\n",
        "           'full',\n",
        "           'full',\n",
        "           'full',\n",
        "           'full',\n",
        "           'full',\n",
        "           'full',\n",
        "           'full',\n",
        "           'd MMM YYY', \n",
        "           'd MMMM YYY',\n",
        "           'dd MMM YYY',\n",
        "           'd MMM, YYY',\n",
        "           'd MMMM, YYY',\n",
        "           'dd, MMM YYY',\n",
        "           'd MM YY',\n",
        "           'd MMMM YYY',\n",
        "           'MMMM d YYY',\n",
        "           'MMMM d, YYY',\n",
        "           'dd.MM.YY']\n",
        "\n",
        "# change this if you want it to work with another language\n",
        "LOCALES = ['en_US']\n",
        "\n",
        "def load_date():\n",
        "    \"\"\"\n",
        "        Loads some fake dates \n",
        "        :returns: tuple containing human readable string, machine readable string, and date object\n",
        "    \"\"\"\n",
        "    dt = fake.date_object()\n",
        "\n",
        "    try:\n",
        "        human_readable = format_date(dt, format=random.choice(FORMATS),  locale='zh_CN') # locale=random.choice(LOCALES))\n",
        "        human_readable = human_readable.lower()\n",
        "        human_readable = human_readable.replace(',','')\n",
        "        machine_readable = dt.isoformat()\n",
        "        \n",
        "    except AttributeError as e:\n",
        "        return None, None, None\n",
        "\n",
        "    return human_readable, machine_readable, dt\n",
        "\n",
        "def load_dataset_yield():\n",
        "  \"\"\"\n",
        "    Loads a dataset with m examples and vocabularies\n",
        "    :m: the number of examples to generate\n",
        "  \"\"\"       \n",
        "  while True:\n",
        "    h, m, _ = load_date()\n",
        "    if h is not None:\n",
        "      h += '#'\n",
        "      m += '#'\n",
        "      yield (h, m)\n",
        "\n",
        "print('示例数据(井号键(#)表示结束符):')\n",
        "print(next(load_dataset_yield()))\n",
        "print(next(load_dataset_yield()))\n",
        "print(next(load_dataset_yield()))\n",
        "\n",
        "#========可读日期vocab=========    \n",
        "human_vocab = {'@': 0, '#': 1, ' ': 2, '.': 3, '/': 4, '0': 5, '1': 6, '2': 7, '3': 8, '4': 9, '5': 10, '6': 11, '7': 12, '8': 13, '9': 14, '一': 15, '七': 16, '三': 17, '九': 18, '二': 19, '五': 20, '八': 21, '六': 22, '十': 23, '四': 24, '年': 25, '日': 26, '星': 27, '月': 28, '期': 29}\n",
        "#========机器日期vocab=========\n",
        "machine_vocab = {'@': 0, '#': 1, '-': 2, '0': 3, '1': 4, '2': 5, '3': 6, '4': 7, '5': 8, '6': 9, '7': 10, '8': 11, '9': 12}\n",
        "#========机器日期 反vocab=========\n",
        "inv_machine_vocab = {0: '@', 1: '#', 2: '-', 3: '0', 4: '1', 5: '2', 6: '3', 7: '4', 8: '5', 9: '6', 10: '7', 11: '8', 12: '9'}    \n",
        "\n",
        "max_len = 32\n",
        "batch_size = 64"
      ],
      "execution_count": 76,
      "outputs": [
        {
          "output_type": "stream",
          "text": [
            "示例数据(井号键(#)表示结束符):\n",
            "('9 5月 1998#', '1998-05-09#')\n",
            "('10.11.19#', '2019-11-10#')\n",
            "('1970/9/10#', '1970-09-10#')\n"
          ],
          "name": "stdout"
        }
      ]
    },
    {
      "cell_type": "markdown",
      "metadata": {
        "id": "8ill1rn-Cpvb"
      },
      "source": [
        "因为trax中的tokenize()和detokenize()函数,如果词汇表类型(vocab_type)使用'char'方式是不能指定自己词汇表(指定了内部也不用).为了使用自己的词汇表所以自己简单实现tokenize()和detokenize()功能:"
      ]
    },
    {
      "cell_type": "code",
      "metadata": {
        "id": "XEQjrLH3cP5s"
      },
      "source": [
        "def tok(data, dic):\n",
        "  '''\n",
        "  将字符串转为整数token\n",
        "  data: String类型\n",
        "  dic: 词汇表字典\n",
        "  return: np.array类型\n",
        "  '''\n",
        "  s = []\n",
        "  for c in data:\n",
        "    s.append(dic[c])\n",
        "  return np.array(s) \n",
        "\n",
        "def detok(data, dic):\n",
        "  '''\n",
        "  将 token(np.array类型) 转为 字符串/列表\n",
        "  data: token, 如 np.array.shape = (batch_size, seq_length)\n",
        "  dic: 词汇表字典\n",
        "  return: 字符串/列表, 如'abc' 或 ['abc', 'def']\n",
        "  ''' \n",
        "  if len(data.shape)>2:\n",
        "    raise ValueError(f'The dim of input can NOT > 2. the dim of input is {len(data.shape)}')\n",
        "  data = data if len(data.shape) > 1 else data[None, :]\n",
        "  l = ['' for _ in range(data.shape[0])]\n",
        "  for i in range(data.shape[0]):\n",
        "    for j in range(data.shape[1]):\n",
        "      l[i] += dic[data[i][j]]\n",
        "  return np.squeeze(l)"
      ],
      "execution_count": 77,
      "outputs": []
    },
    {
      "cell_type": "markdown",
      "metadata": {
        "id": "7NC2DOn5Ekis"
      },
      "source": [
        "数据预处理:"
      ]
    },
    {
      "cell_type": "code",
      "metadata": {
        "id": "Pqi66QVzqwhV",
        "outputId": "fc84d8b1-9869-4290-9eda-e88de7fed1c0",
        "colab": {
          "base_uri": "https://localhost:8080/",
          "height": 381
        }
      },
      "source": [
        "def tok_tuple_yield(data, dic, axis=0):\n",
        "  for da in data:\n",
        "    l = tok(da[axis], dic)\n",
        "    yield (l, da[1]) if axis==0 else (da[0], l)\n",
        "\n",
        "input_pip = trax.data.Serial(\n",
        "  lambda _: load_dataset_yield(),\n",
        "  lambda x: tok_tuple_yield(x, human_vocab, 0),\n",
        "  lambda x: tok_tuple_yield(x, machine_vocab, 1),\n",
        "  trax.data.FilterByLength(max_length=max_len, length_keys=[0, 1]),\n",
        "  trax.data.BucketByLength(boundaries=[max_len],\n",
        "              batch_sizes=[batch_size, 1],\n",
        "              length_keys=[0, 1],\n",
        "              strict_pad_on_len=True),  \n",
        "  trax.data.AddLossWeights(id_to_mask=0),\n",
        ")\n",
        "\n",
        "train_batches_stream = input_pip()\n",
        "eval_batches_stream = input_pip()\n",
        "\n",
        "o = next(train_batches_stream)\n",
        "print(f'第一批数据:{o}')\n",
        "print(f'第一批数据tuple中每个数据shape: {[x.shape for x in o]}')"
      ],
      "execution_count": 78,
      "outputs": [
        {
          "output_type": "stream",
          "text": [
            "第一批数据:(array([[ 6, 14, 14, ...,  0,  0,  0],\n",
            "       [ 6, 14, 14, ...,  0,  0,  0],\n",
            "       [ 6, 14, 13, ...,  0,  0,  0],\n",
            "       ...,\n",
            "       [24, 28,  2, ...,  0,  0,  0],\n",
            "       [ 6, 14, 14, ...,  0,  0,  0],\n",
            "       [ 6, 14, 12, ...,  0,  0,  0]]), array([[ 4, 12, 12, ...,  0,  0,  0],\n",
            "       [ 4, 12, 12, ...,  0,  0,  0],\n",
            "       [ 4, 12, 11, ...,  0,  0,  0],\n",
            "       ...,\n",
            "       [ 5,  3,  4, ...,  0,  0,  0],\n",
            "       [ 4, 12, 12, ...,  0,  0,  0],\n",
            "       [ 4, 12, 10, ...,  0,  0,  0]]), array([[1., 1., 1., ..., 0., 0., 0.],\n",
            "       [1., 1., 1., ..., 0., 0., 0.],\n",
            "       [1., 1., 1., ..., 0., 0., 0.],\n",
            "       ...,\n",
            "       [1., 1., 1., ..., 0., 0., 0.],\n",
            "       [1., 1., 1., ..., 0., 0., 0.],\n",
            "       [1., 1., 1., ..., 0., 0., 0.]], dtype=float32))\n",
            "第一批数据tuple中每个数据shape: [(64, 32), (64, 32), (64, 32)]\n"
          ],
          "name": "stdout"
        }
      ]
    },
    {
      "cell_type": "markdown",
      "metadata": {
        "id": "gUyINmPXE-EF"
      },
      "source": [
        "创建Transformer训练模型:"
      ]
    },
    {
      "cell_type": "code",
      "metadata": {
        "id": "WoSz5plIyXOU"
      },
      "source": [
        "# MODEL\n",
        "def create_model(mode = 'train'):\n",
        "  return trax.models.Transformer(\n",
        "      input_vocab_size=len(human_vocab),\n",
        "      output_vocab_size=len(machine_vocab),\n",
        "      d_model=32, d_ff=128,\n",
        "      n_heads=8, n_encoder_layers=2, n_decoder_layers=2,\n",
        "      max_len=max_len, mode=mode)\n",
        "\n",
        "# UNUSED\n",
        "def create_model_reformer(mode = 'train'):\n",
        "  return trax.models.Reformer(input_vocab_size=8269,\n",
        "              output_vocab_size=8185,\n",
        "              d_model=256,\n",
        "              d_ff=1024,\n",
        "              n_encoder_layers=2,\n",
        "              n_decoder_layers=2,\n",
        "              n_heads=8,\n",
        "              dropout=0.1,\n",
        "              max_len=258,\n",
        "              ff_activation=tl.Relu,\n",
        "              ff_dropout=None,\n",
        "              mode=mode)\n",
        "          "
      ],
      "execution_count": 79,
      "outputs": []
    },
    {
      "cell_type": "markdown",
      "metadata": {
        "id": "-TVx_BccFA6c"
      },
      "source": [
        "训练(注:使用GPU可以加快训练速度):"
      ]
    },
    {
      "cell_type": "code",
      "metadata": {
        "id": "d6bIKUO-3Cw8",
        "outputId": "20754682-5308-437a-ab98-e9032ebee864",
        "colab": {
          "base_uri": "https://localhost:8080/",
          "height": 491
        }
      },
      "source": [
        "# TRAIN\n",
        "from trax.supervised import training\n",
        "\n",
        "# Training task.\n",
        "train_task = training.TrainTask(\n",
        "    labeled_data=train_batches_stream,\n",
        "    loss_layer=tl.CrossEntropyLoss(),\n",
        "    optimizer=trax.optimizers.Adafactor(0.02),\n",
        "    #optimizer=trax.optimizers.Adam(learning_rate=0.1, weight_decay_rate=1e-05, b1=0.9, b2=0.98, eps=1e-06, clip_grad_norm=None),\n",
        "    n_steps_per_checkpoint=300,\n",
        ")\n",
        "\n",
        "# Evaluaton task.\n",
        "eval_task = training.EvalTask(\n",
        "    labeled_data=eval_batches_stream,\n",
        "    metrics=[tl.CrossEntropyLoss(), tl.Accuracy()],\n",
        "    n_eval_batches=20  # For less variance in eval numbers.\n",
        ")\n",
        "\n",
        "# Training loop saves checkpoints to output_dir.\n",
        "output_dir = os.path.expanduser('~/output_dir/')\n",
        "print(output_dir)\n",
        "!rm -rf {output_dir}\n",
        "training_loop = training.Loop(create_model(),\n",
        "                train_task,\n",
        "                eval_tasks=[eval_task],\n",
        "                output_dir=output_dir)\n",
        "\n",
        "\n",
        "# Run\n",
        "training_loop.run(1200)"
      ],
      "execution_count": 80,
      "outputs": [
        {
          "output_type": "stream",
          "text": [
            "/root/output_dir/\n",
            "\n",
            "Step      1: Ran 1 train steps in 18.79 secs\n",
            "Step      1: train CrossEntropyLoss |  2.84239006\n",
            "Step      1: eval  CrossEntropyLoss |  2.52507530\n",
            "Step      1: eval          Accuracy |  0.18465910\n",
            "\n",
            "Step    300: Ran 299 train steps in 35.78 secs\n",
            "Step    300: train CrossEntropyLoss |  0.83705121\n",
            "Step    300: eval  CrossEntropyLoss |  0.51364623\n",
            "Step    300: eval          Accuracy |  0.79950286\n",
            "\n",
            "Step    600: Ran 300 train steps in 17.25 secs\n",
            "Step    600: train CrossEntropyLoss |  0.23055305\n",
            "Step    600: eval  CrossEntropyLoss |  0.07081541\n",
            "Step    600: eval          Accuracy |  0.97890628\n",
            "\n",
            "Step    900: Ran 300 train steps in 17.21 secs\n",
            "Step    900: train CrossEntropyLoss |  0.04028004\n",
            "Step    900: eval  CrossEntropyLoss |  0.02603501\n",
            "Step    900: eval          Accuracy |  0.99140628\n",
            "\n",
            "Step   1200: Ran 300 train steps in 17.20 secs\n",
            "Step   1200: train CrossEntropyLoss |  0.01672226\n",
            "Step   1200: eval  CrossEntropyLoss |  0.01874784\n",
            "Step   1200: eval          Accuracy |  0.99566763\n"
          ],
          "name": "stdout"
        }
      ]
    },
    {
      "cell_type": "markdown",
      "metadata": {
        "id": "JtrqgebEM60O"
      },
      "source": [
        "测试模型效果:"
      ]
    },
    {
      "cell_type": "code",
      "metadata": {
        "id": "B98rTQXeb2UJ",
        "outputId": "4e22cf64-ee51-4f73-bf6e-6ac0217531aa",
        "colab": {
          "base_uri": "https://localhost:8080/",
          "height": 1000
        }
      },
      "source": [
        "for _ in range(10):\n",
        "  dat = next(load_dataset_yield())\n",
        "  # 模型必须每次重新加载, 因为调用autoregressive_sample()时,会改变model的状态值\n",
        "  model = create_model('predict') \n",
        "  model.init_from_file(output_dir+ '/model.pkl.gz', weights_only=True, \n",
        "            input_signature=[trax.shapes.ShapeDtype((1, 1), np.int32), \n",
        "                      trax.shapes.ShapeDtype((1, 1), np.int32),\n",
        "                      trax.shapes.ShapeDtype((1, 1), np.float32)])\n",
        "  # Tokenize a sentence.\n",
        "  test_source = dat[0]\n",
        "  test_target = dat[1]\n",
        "  test_tok = tok(test_source, human_vocab)\n",
        "  test_tok = test_tok[None, :]\n",
        "\n",
        "  res_tok = trax.supervised.decoding.autoregressive_sample(\n",
        "      model, inputs=test_tok, batch_size=1, temperature=0.5, \n",
        "      start_id=human_vocab['@'], eos_id=machine_vocab['#'], max_length=max_len, accelerate=False)\n",
        "\n",
        "  res = detok(res_tok, inv_machine_vocab)\n",
        "  print('======================================================')\n",
        "  print(f'输入: {test_source}')\n",
        "  print(f'token(输入): {test_tok}')\n",
        "  print(f'token(输出): {res_tok}')\n",
        "  print(f'输出: {res}')\n",
        "  print(f'真值: {test_target}')"
      ],
      "execution_count": 81,
      "outputs": [
        {
          "output_type": "stream",
          "text": [
            "======================================================\n",
            "输入: 2020年7月10日星期五#\n",
            "token(输入): [[ 7  5  7  5 25 12 28  6  5 26 27 29 20  1]]\n",
            "token(输出): [[ 5  3  5  3  2  3 10  2  4  3  1]]\n",
            "输出: 2020-07-10#\n",
            "真值: 2020-07-10#\n",
            "======================================================\n",
            "输入: 27 10月 2017#\n",
            "token(输入): [[ 7 12  2  6  5 28  2  7  5  6 12  1]]\n",
            "token(输出): [[ 5  3  4 10  2  4  3  2  5 10  1]]\n",
            "输出: 2017-10-27#\n",
            "真值: 2017-10-27#\n",
            "======================================================\n",
            "输入: 16 06 83#\n",
            "token(输入): [[ 6 11  2  5 11  2 13  8  1]]\n",
            "token(输出): [[ 4 12 11  6  2  3  9  2  4  9  1]]\n",
            "输出: 1983-06-16#\n",
            "真值: 1983-06-16#\n",
            "======================================================\n",
            "输入: 1978年5月14日#\n",
            "token(输入): [[ 6 14 12 13 25 10 28  6  9 26  1]]\n",
            "token(输出): [[ 4 12 10 11  2  3  8  2  4  7  1]]\n",
            "输出: 1978-05-14#\n",
            "真值: 1978-05-14#\n",
            "======================================================\n",
            "输入: 1995年5月30日星期二#\n",
            "token(输入): [[ 6 14 14 10 25 10 28  8  5 26 27 29 19  1]]\n",
            "token(输出): [[ 4 12 12  8  2  3  8  2  6  3  1]]\n",
            "输出: 1995-05-30#\n",
            "真值: 1995-05-30#\n",
            "======================================================\n",
            "输入: 七月 9 1981#\n",
            "token(输入): [[16 28  2 14  2  6 14 13  6  1]]\n",
            "token(输出): [[ 4 12 11  4  2  3 10  2  3 12  1]]\n",
            "输出: 1981-07-09#\n",
            "真值: 1981-07-09#\n",
            "======================================================\n",
            "输入: 1991年4月3日星期三#\n",
            "token(输入): [[ 6 14 14  6 25  9 28  8 26 27 29 17  1]]\n",
            "token(输出): [[ 4 12 12  4  2  3  7  2  3  6  1]]\n",
            "输出: 1991-04-03#\n",
            "真值: 1991-04-03#\n",
            "======================================================\n",
            "输入: 23 一月 1983#\n",
            "token(输入): [[ 7  8  2 15 28  2  6 14 13  8  1]]\n",
            "token(输出): [[ 4 12 11  6  2  3  4  2  5  6  1]]\n",
            "输出: 1983-01-23#\n",
            "真值: 1983-01-23#\n",
            "======================================================\n",
            "输入: 1989年5月12日星期五#\n",
            "token(输入): [[ 6 14 13 14 25 10 28  6  7 26 27 29 20  1]]\n",
            "token(输出): [[ 4 12 11 12  2  3  8  2  4  5  1]]\n",
            "输出: 1989-05-12#\n",
            "真值: 1989-05-12#\n",
            "======================================================\n",
            "输入: 三月 26 1973#\n",
            "token(输入): [[17 28  2  7 11  2  6 14 12  8  1]]\n",
            "token(输出): [[ 4 12 10  6  2  3  6  2  5  9  1]]\n",
            "输出: 1973-03-26#\n",
            "真值: 1973-03-26#\n"
          ],
          "name": "stdout"
        }
      ]
    }
  ]
}